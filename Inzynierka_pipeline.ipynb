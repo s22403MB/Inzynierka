{
 "cells": [
  {
   "metadata": {},
   "cell_type": "code",
   "outputs": [],
   "execution_count": 1,
   "source": [
    "import pandas as pd\n",
    "import numpy as np\n",
    "import joblib\n",
    "from sklearn.svm import SVC\n",
    "from sklearn.tree import DecisionTreeClassifier\n",
    "from sklearn.naive_bayes import GaussianNB\n",
    "from sklearn.ensemble import VotingClassifier\n",
    "from sklearn.compose import ColumnTransformer\n",
    "from sklearn.model_selection import train_test_split\n",
    "from sklearn.preprocessing import MinMaxScaler, FunctionTransformer, OneHotEncoder\n",
    "from sklearn.pipeline import Pipeline\n",
    "from sklearn.metrics import confusion_matrix, classification_report\n",
    "pd.set_option('display.max_columns',None)"
   ],
   "id": "12d79c59-f9bf-4996-ba82-411c1d2dd5bc"
  },
  {
   "metadata": {
    "ExecuteTime": {
     "end_time": "2024-04-14T15:01:06.214764Z",
     "start_time": "2024-04-14T15:01:05.796988Z"
    }
   },
   "cell_type": "code",
   "source": "sklearn.version",
   "id": "7ba10811cf2f3dbd",
   "outputs": [
    {
     "ename": "NameError",
     "evalue": "name 'sklearn' is not defined",
     "output_type": "error",
     "traceback": [
      "\u001B[1;31m---------------------------------------------------------------------------\u001B[0m",
      "\u001B[1;31mNameError\u001B[0m                                 Traceback (most recent call last)",
      "Cell \u001B[1;32mIn[7], line 1\u001B[0m\n\u001B[1;32m----> 1\u001B[0m \u001B[43msklearn\u001B[49m\u001B[38;5;241m.\u001B[39mversion\n",
      "\u001B[1;31mNameError\u001B[0m: name 'sklearn' is not defined"
     ]
    }
   ],
   "execution_count": 7
  },
  {
   "cell_type": "code",
   "id": "52d87cac-f674-4554-bdbc-ed986c23ead8",
   "metadata": {
    "ExecuteTime": {
     "end_time": "2024-04-14T14:53:59.894489Z",
     "start_time": "2024-04-14T14:53:59.786756Z"
    }
   },
   "source": [
    "df = pd.read_csv(r'C:\\Users\\marek\\OneDrive\\Pulpit\\Inzynierka\\bank-additional-full.csv', sep=';')\n",
    "columns_to_drop = ['duration','euribor3m','emp.var.rate','cons.price.idx','cons.conf.idx','nr.employed']\n",
    "for column in columns_to_drop:\n",
    "    df.drop(column, axis=1, inplace=True)\n",
    "columns_to_replace_unknown = df.columns.difference(['default','housing','loan'])\n",
    "df[columns_to_replace_unknown] = df[columns_to_replace_unknown].copy().replace('unknown', np.nan)"
   ],
   "outputs": [],
   "execution_count": 2
  },
  {
   "cell_type": "code",
   "id": "e50deb70-e58d-46f9-a265-b04375adf25b",
   "metadata": {
    "scrolled": true,
    "ExecuteTime": {
     "end_time": "2024-04-14T14:54:00.025565Z",
     "start_time": "2024-04-14T14:53:59.894489Z"
    }
   },
   "source": [
    "categorical_for_dummies = ['job', 'marital']\n",
    "[df.dropna(subset=x, inplace=True) for x in categorical_for_dummies]\n",
    "\n",
    "df['month'] = df['month'].replace(['jan','feb','mar','apr','may','jun','jul','aug','sep','oct','nov','dec'],\n",
    "                     [1,2,3,4,5,6,7,8,9,10,11,12])\n",
    "df['day_of_week'] = df['day_of_week'].replace(['mon','tue','wed','thu','fri'], [1,2,3,4,5])\n",
    "df['education'] = df['education'].replace(['illiterate','basic.4y','basic.6y','basic.9y','high.school','professional.course',\n",
    "                         'university.degree'], [0,1,2,3,4,5,6])\n",
    "df['education'] = df['education'].fillna(df['education'].mean())\n",
    "quantile_995 = df['campaign'].quantile(0.995)\n",
    "df = df[df['campaign'] <= quantile_995]\n",
    "df['not_contacted_before'] = df['pdays'] == 999\n",
    "df['pdays'] = df['pdays'].apply(lambda x: np.log10(x) if x > 0 else 0)\n",
    "df['y'] = df['y'].replace(['no', 'yes'], [0, 1])\n",
    "\n",
    "X = df.drop('y', axis=1)\n",
    "Y = df['y']\n",
    "#X_train, X_test, y_train, y_test = train_test_split(X, Y, test_size=0.1, random_state=42)"
   ],
   "outputs": [
    {
     "name": "stderr",
     "output_type": "stream",
     "text": [
      "C:\\Users\\marek\\AppData\\Local\\Temp\\ipykernel_31176\\3849813353.py:4: FutureWarning: Downcasting behavior in `replace` is deprecated and will be removed in a future version. To retain the old behavior, explicitly call `result.infer_objects(copy=False)`. To opt-in to the future behavior, set `pd.set_option('future.no_silent_downcasting', True)`\n",
      "  df['month'] = df['month'].replace(['jan','feb','mar','apr','may','jun','jul','aug','sep','oct','nov','dec'],\n",
      "C:\\Users\\marek\\AppData\\Local\\Temp\\ipykernel_31176\\3849813353.py:6: FutureWarning: Downcasting behavior in `replace` is deprecated and will be removed in a future version. To retain the old behavior, explicitly call `result.infer_objects(copy=False)`. To opt-in to the future behavior, set `pd.set_option('future.no_silent_downcasting', True)`\n",
      "  df['day_of_week'] = df['day_of_week'].replace(['mon','tue','wed','thu','fri'], [1,2,3,4,5])\n",
      "C:\\Users\\marek\\AppData\\Local\\Temp\\ipykernel_31176\\3849813353.py:7: FutureWarning: Downcasting behavior in `replace` is deprecated and will be removed in a future version. To retain the old behavior, explicitly call `result.infer_objects(copy=False)`. To opt-in to the future behavior, set `pd.set_option('future.no_silent_downcasting', True)`\n",
      "  df['education'] = df['education'].replace(['illiterate','basic.4y','basic.6y','basic.9y','high.school','professional.course',\n",
      "C:\\Users\\marek\\AppData\\Local\\Temp\\ipykernel_31176\\3849813353.py:14: FutureWarning: Downcasting behavior in `replace` is deprecated and will be removed in a future version. To retain the old behavior, explicitly call `result.infer_objects(copy=False)`. To opt-in to the future behavior, set `pd.set_option('future.no_silent_downcasting', True)`\n",
      "  df['y'] = df['y'].replace(['no', 'yes'], [0, 1])\n"
     ]
    }
   ],
   "execution_count": 3
  },
  {
   "cell_type": "code",
   "id": "ef8d512b-a999-4112-aa31-5e7ee2177141",
   "metadata": {
    "ExecuteTime": {
     "end_time": "2024-04-14T14:54:00.029573Z",
     "start_time": "2024-04-14T14:54:00.026573Z"
    }
   },
   "source": [
    "def identity_transform(x):\n",
    "    return x\n",
    "\n",
    "transform = [\n",
    "    ('identity', FunctionTransformer(identity_transform), ['pdays', 'not_contacted_before']),\n",
    "    ('min_max_scaler', MinMaxScaler(), ['age', 'education', 'month', 'day_of_week', 'campaign', 'previous', 'education']),\n",
    "    ('one_hot_encoder', OneHotEncoder(), ['default', 'housing', 'loan', 'contact', 'poutcome', 'job', 'marital'])\n",
    "]\n",
    "column_transformer = ColumnTransformer(transform)"
   ],
   "outputs": [],
   "execution_count": 4
  },
  {
   "cell_type": "code",
   "id": "65f8949a-3361-48b6-9b6b-c355aa1bebd6",
   "metadata": {
    "ExecuteTime": {
     "end_time": "2024-04-14T14:54:00.034130Z",
     "start_time": "2024-04-14T14:54:00.029573Z"
    }
   },
   "source": [
    "voting_clf = VotingClassifier(\n",
    "    estimators=[\n",
    "        ('svc', SVC(class_weight='balanced',kernel='poly', probability=True, random_state=42)),\n",
    "        ('dtc',DecisionTreeClassifier(max_depth = 6,class_weight='balanced', random_state=42)),\n",
    "        ('gnb',GaussianNB(var_smoothing=1e-7))\n",
    "    ]\n",
    ")\n",
    "pipeline = Pipeline([\n",
    "    ('preprocessor', column_transformer),\n",
    "    ('classifier', voting_clf)\n",
    "])\n",
    "pipeline_part1 = Pipeline([\n",
    "    ('preprocessor', column_transformer),\n",
    "    ('classifier', SVC(probability=True,kernel='poly', class_weight='balanced', random_state=42))\n",
    "])\n",
    "pipeline_part2 = Pipeline([\n",
    "    ('preprocessor', column_transformer),\n",
    "    ('classifier', DecisionTreeClassifier(max_depth = 6, class_weight='balanced', random_state=42))\n",
    "])\n",
    "pipeline_part3 = Pipeline([\n",
    "    ('preprocessor', column_transformer),\n",
    "    ('classifier', GaussianNB(var_smoothing=1e-7))\n",
    "])"
   ],
   "outputs": [],
   "execution_count": 5
  },
  {
   "cell_type": "code",
   "id": "f1703bae-6095-40f5-bbbf-6cfaee634365",
   "metadata": {
    "ExecuteTime": {
     "end_time": "2024-04-14T15:01:05.795982Z",
     "start_time": "2024-04-14T14:54:00.034130Z"
    }
   },
   "source": [
    "pip = pipeline.fit(X, Y)\n",
    "pip1 = pipeline_part1.fit(X, Y)\n",
    "pip2 = pipeline_part2.fit(X, Y)\n",
    "pip3 = pipeline_part3.fit(X, Y)\n",
    "\n",
    "joblib.dump(pip, 'main_model.pkl')\n",
    "joblib.dump(pip1, 'pip1_model.pkl')\n",
    "joblib.dump(pip2, 'pip2_model.pkl')\n",
    "joblib.dump(pip3, 'pip3_model.pkl')"
   ],
   "outputs": [
    {
     "data": {
      "text/plain": [
       "['pip3_model.pkl']"
      ]
     },
     "execution_count": 6,
     "metadata": {},
     "output_type": "execute_result"
    }
   ],
   "execution_count": 6
  }
 ],
 "metadata": {
  "kernelspec": {
   "display_name": "Python 3 (ipykernel)",
   "language": "python",
   "name": "python3"
  },
  "language_info": {
   "codemirror_mode": {
    "name": "ipython",
    "version": 3
   },
   "file_extension": ".py",
   "mimetype": "text/x-python",
   "name": "python",
   "nbconvert_exporter": "python",
   "pygments_lexer": "ipython3",
   "version": "3.11.7"
  }
 },
 "nbformat": 4,
 "nbformat_minor": 5
}
